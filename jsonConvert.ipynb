{
 "cells": [
  {
   "cell_type": "code",
   "execution_count": null,
   "id": "50983f91",
   "metadata": {},
   "outputs": [],
   "source": [
    "import os\n",
    "\n",
    "#function to generate json format from .txt\n",
    "def generate_output(input_file, folder_name):\n",
    "    output = {}\n",
    "\n",
    "    with open(input_file, \"r\") as f:\n",
    "        text = f.read()\n",
    "\n",
    "    text_lines = text.split('\\n')\n",
    "\n",
    "    prompt = \"You: [INITIATE_CALL]\\n\"\n",
    "    completion = \"\"\n",
    "\n",
    "    if folder_name == \"successful_sale\":\n",
    "        completion = \"[SUCCESSFUL_SALE]\"\n",
    "    elif folder_name == \"not_interested\":\n",
    "        completion = \"[NOT_INTERESTED]\"\n",
    "'   #interested data is not yet in testing data, uncommented when data is there
    "    #elif folder_name == \"interested\":\n",
    "        #completion = \"[INTERESTED]\"\n",
    "    elif folder_name == \"wrong_number\":\n",
    "        completion = \"[WRONG_NUMBER]\"\n",
    "    else:\n",
    "        completion = \"[DO_NOT_CALL]\"\n",
    "\n",
    "    for i in range(0, len(text_lines) - 1, 2):\n",
    "        prompt += f\"Customer: {text_lines[i]}\\n\"\n",
    "        prompt += f\"You: {text_lines[i+1]}\\n\"\n",
    "\n",
    "    prompt += \" ->\"\n",
    "\n",
    "    output[\"prompt\"] = prompt\n",
    "    output[\"completion\"] = completion\n",
    "    return output\n"
   ]
  },
  {
   "cell_type": "code",
   "execution_count": null,
   "id": "52c920e5",
   "metadata": {},
   "outputs": [],
   "source": [
    "#data path and classification\n",
    "classifications = ['do_not_call', 'not_interested', 'successful_sale', 'wrong_number']\n",
    "data_path = './asset/testing_result/'\n",
    "\n",
    "#__driver__ to run the program\n",
    "output_file = []\n",
    "for classification in classifications:\n",
    "    directory = os.path.join(data_path, classification)\n",
    "    txt_files = []\n",
    "\n",
    "    for filename in os.listdir(directory):\n",
    "        if filename.endswith(\".txt\"):\n",
    "            input_file = os.path.join(directory, filename)\n",
    "            output = generate_output(input_file, classification)\n",
    "            output_file.append(output)\n",
    "            \n",
    "#optional to check output\n",
    "#print(output_file)\n"
   ]
  }
 ],
 "metadata": {
  "kernelspec": {
   "display_name": "Python 3 (ipykernel)",
   "language": "python",
   "name": "python3"
  },
  "language_info": {
   "codemirror_mode": {
    "name": "ipython",
    "version": 3
   },
   "file_extension": ".py",
   "mimetype": "text/x-python",
   "name": "python",
   "nbconvert_exporter": "python",
   "pygments_lexer": "ipython3",
   "version": "3.9.7"
  }
 },
 "nbformat": 4,
 "nbformat_minor": 5
}
