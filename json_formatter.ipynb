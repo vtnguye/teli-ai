{
 "cells": [
  {
   "cell_type": "code",
   "execution_count": 3,
   "id": "79ec56b2",
   "metadata": {},
   "outputs": [],
   "source": [
    "import os\n",
    "import json\n",
    "#function to generate json format from .txt\n",
    "def generate_output(input_file, folder_name):\n",
    "    output = {}\n",
    "\n",
    "    with open(input_file, \"r\") as f:\n",
    "        text = f.read()\n",
    "\n",
    "    text_lines = text.split('\\n')\n",
    "\n",
    "    prompt = \"\"\n",
    "    completion = folder_name.replace('_', ' ')\n",
    "\n",
    "    for i,line in enumerate(text_lines):\n",
    "        line = line.strip()\n",
    "        if i%2==0:\n",
    "            prompt += \"Customer: \" +line + \"\\n\"\n",
    "        else:\n",
    "            prompt += \"You: \" + line + \"\\n\"\n",
    "\n",
    "    prompt += \" ->\"\n",
    "    output[\"prompt\"] = prompt\n",
    "    output[\"completion\"] = completion\n",
    "    return output\n"
   ]
  },
  {
   "cell_type": "code",
   "execution_count": 4,
   "id": "90d5fee5",
   "metadata": {},
   "outputs": [],
   "source": [
    "#data path and classification\n",
    "classifications = ['do_not_call', 'not_interested', 'successful_sale', 'wrong_number']\n",
    "data_path = './asset/testing_result/'\n",
    "\n",
    "#__driver__ to run the program\n",
    "output_file = []\n",
    "for classification in classifications:\n",
    "    directory = os.path.join(data_path, classification)\n",
    "    txt_files = []\n",
    "\n",
    "    for filename in os.listdir(directory):\n",
    "        if filename.endswith(\".txt\"):\n",
    "            input_file = os.path.join(directory, filename)\n",
    "            output = generate_output(input_file, classification)\n",
    "            output_file.append(output)\n",
    "   \n",
    "with open(\"classification_bot/classification_dataset.json\", \"w\") as f:\n",
    "     # write the dictionary to the file as a JSON string\n",
    "     for i,output in enumerate(output_file):\n",
    "        json_str = json.dumps(output)\n",
    "        if i != 0:\n",
    "            f.write(',')\n",
    "        f.write(json_str)\n"
   ]
  }
 ],
 "metadata": {
  "kernelspec": {
   "display_name": "Python 3 (ipykernel)",
   "language": "python",
   "name": "python3"
  },
  "language_info": {
   "codemirror_mode": {
    "name": "ipython",
    "version": 3
   },
   "file_extension": ".py",
   "mimetype": "text/x-python",
   "name": "python",
   "nbconvert_exporter": "python",
   "pygments_lexer": "ipython3",
   "version": "3.9.12"
  }
 },
 "nbformat": 4,
 "nbformat_minor": 5
}
