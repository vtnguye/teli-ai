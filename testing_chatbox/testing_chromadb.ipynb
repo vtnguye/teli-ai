{
 "cells": [
  {
   "cell_type": "code",
   "execution_count": 1,
   "metadata": {},
   "outputs": [],
   "source": [
    "import chromadb\n",
    "from openai.embeddings_utils import get_embedding\n",
    "from dotenv import load_dotenv\n",
    "from chromadb.utils import embedding_functions\n",
    "import os\n",
    "from chromadb.config import Settings"
   ]
  },
  {
   "cell_type": "code",
   "execution_count": 2,
   "metadata": {},
   "outputs": [
    {
     "name": "stderr",
     "output_type": "stream",
     "text": [
      "Using embedded DuckDB with persistence: data will be stored in: ../chromadb\n"
     ]
    }
   ],
   "source": [
    "load_dotenv()\n",
    "OPEN_API_KEY = os.getenv(\"OPENAI_API_KEY\")\n",
    "EMBEDDINGS_MODEL = \"text-embedding-ada-002\"\n",
    "\n",
    "openai_ef = embedding_functions.OpenAIEmbeddingFunction(\n",
    "                api_key=OPEN_API_KEY,\n",
    "                model_name=EMBEDDINGS_MODEL\n",
    "            )\n",
    "CHROMA_CLIENT = chromadb.Client(Settings(\n",
    "        chroma_db_impl=\"duckdb+parquet\", persist_directory=\"../chromadb\"))\n",
    "CHROMA_CLIENT.persist()\n",
    "collection = CHROMA_CLIENT.get_or_create_collection(name=\"teli-ai\",embedding_function=openai_ef)"
   ]
  },
  {
   "cell_type": "code",
   "execution_count": 3,
   "metadata": {},
   "outputs": [
    {
     "data": {
      "text/plain": [
       "29"
      ]
     },
     "execution_count": 3,
     "metadata": {},
     "output_type": "execute_result"
    }
   ],
   "source": [
    "collection.count()"
   ]
  },
  {
   "cell_type": "code",
   "execution_count": 5,
   "metadata": {},
   "outputs": [
    {
     "name": "stdout",
     "output_type": "stream",
     "text": [
      "Customer: Hello\n",
      "AI: Hi is this the property owner of\n",
      "\n",
      "Customer: You have the wrong number\n",
      "AI: My apologies\n",
      "\n",
      "Customer: Do not call\n",
      "AI: Okay\n",
      "\n",
      "\n"
     ]
    },
    {
     "ename": "",
     "evalue": "",
     "output_type": "error",
     "traceback": [
      "\u001b[1;31mThe Kernel crashed while executing code in the the current cell or a previous cell. Please review the code in the cell(s) to identify a possible cause of the failure. Click <a href='https://aka.ms/vscodeJupyterKernelCrash'>here</a> for more info. View Jupyter <a href='command:jupyter.viewOutput'>log</a> for further details."
     ]
    }
   ],
   "source": [
    "response = collection.query(query_texts=[\"Customer: hello\\n\"],n_results=3)\n",
    "suggestions = \"\"\n",
    "for doc in response[\"documents\"]:\n",
    "    for line in doc:\n",
    "        suggestions += line + \"\\n\\n\"\n",
    "\n",
    "print(suggestions)\n"
   ]
  },
  {
   "cell_type": "code",
   "execution_count": 44,
   "metadata": {},
   "outputs": [
    {
     "name": "stdout",
     "output_type": "stream",
     "text": [
      "Customer: Im sorry but I am not interested \n",
      "AI: Okay \n",
      "\n",
      "Customer: No He is not interested in selling them \n",
      "AI: Not even for cash? \n",
      "Customer: No not even cash bye \n",
      "AI: Bye \n",
      "\n",
      "\n"
     ]
    }
   ],
   "source": []
  },
  {
   "cell_type": "code",
   "execution_count": 26,
   "metadata": {},
   "outputs": [
    {
     "name": "stdout",
     "output_type": "stream",
     "text": [
      "{'ids': [['32598dbf-3d29-4ec1-a60d-e76e441793a4']], 'embeddings': None, 'documents': [['Customer: Hello\\nAI: Hi is this the property owner of']], 'metadatas': [[None]], 'distances': [[0.8536350727081299]]}\n"
     ]
    }
   ],
   "source": [
    "print(response)"
   ]
  },
  {
   "cell_type": "code",
   "execution_count": null,
   "metadata": {},
   "outputs": [],
   "source": [
    "from transformers import GPT2Tokenizer\n",
    "\n",
    "def count_gpt_tokens(passage):\n",
    "    tokenizer = GPT2Tokenizer.from_pretrained('gpt2')\n",
    "    tokens = tokenizer.encode(passage, add_special_tokens=True)\n",
    "    token_count = len(tokens)\n",
    "    return token_count\n"
   ]
  },
  {
   "cell_type": "code",
   "execution_count": null,
   "metadata": {},
   "outputs": [],
   "source": [
    "prompt = \"Act as a telemarketer. Your name is Amelio from Pure Investment. Follow this process:\\nYou initiated the call to customer. First, you need to ask customer question to make sure you are talking to the right customer. Then, you need to ask if he/she is living on the right adress.If the information is correct, ask if he/she is interested in selling their current property for cash.\\nYou are talking to {customer_name}, living in {customer_address}.\\nOnly when the customer is interested in selling their property, ask them for the property condition. Then, ask if they would sell it for {price}.\\nOtherwise, if customer is not interested or it is the wrong cusomter, politely end the conversation and hang up.\\nYou only address the customer's previous question and avoid providing extra information or generating unrelated sequences.\\n\\nSample conversation flow:\\n{sample_conversation}\\n\\nCurrent conversation:\\nYou : [initiate call]\\n\".format(customer_name=\"Vinny\", customer_address=\"Vinny\", price=\"123123\",sample_conversation=\"sample_conversation\")\n",
    "token_count = count_gpt_tokens(prompt)\n",
    "print(\"Number of GPT tokens:\", token_count)"
   ]
  }
 ],
 "metadata": {
  "kernelspec": {
   "display_name": "venv",
   "language": "python",
   "name": "python3"
  },
  "language_info": {
   "codemirror_mode": {
    "name": "ipython",
    "version": 3
   },
   "file_extension": ".py",
   "mimetype": "text/x-python",
   "name": "python",
   "nbconvert_exporter": "python",
   "pygments_lexer": "ipython3",
   "version": "3.9.12"
  },
  "orig_nbformat": 4
 },
 "nbformat": 4,
 "nbformat_minor": 2
}
