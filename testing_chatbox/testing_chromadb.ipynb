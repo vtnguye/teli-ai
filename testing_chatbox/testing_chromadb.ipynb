{
 "cells": [
  {
   "cell_type": "code",
   "execution_count": 1,
   "metadata": {},
   "outputs": [],
   "source": [
    "import chromadb\n",
    "from openai.embeddings_utils import get_embedding\n",
    "from dotenv import load_dotenv\n",
    "from chromadb.utils import embedding_functions\n",
    "import os\n",
    "from chromadb.config import Settings"
   ]
  },
  {
   "cell_type": "code",
   "execution_count": 2,
   "metadata": {},
   "outputs": [
    {
     "name": "stderr",
     "output_type": "stream",
     "text": [
      "Using embedded DuckDB with persistence: data will be stored in: ../chromadb\n"
     ]
    }
   ],
   "source": [
    "load_dotenv()\n",
    "OPEN_API_KEY = os.getenv(\"OPENAI_API_KEY\")\n",
    "EMBEDDINGS_MODEL = \"text-embedding-ada-002\"\n",
    "\n",
    "openai_ef = embedding_functions.OpenAIEmbeddingFunction(\n",
    "                api_key=OPEN_API_KEY,\n",
    "                model_name=EMBEDDINGS_MODEL\n",
    "            )\n",
    "CHROMA_CLIENT = chromadb.Client(Settings(\n",
    "        chroma_db_impl=\"duckdb+parquet\", persist_directory=\"../chromadb\"))\n",
    "CHROMA_CLIENT.persist()\n",
    "collection = CHROMA_CLIENT.get_or_create_collection(name=\"teli-ai\",embedding_function=openai_ef)"
   ]
  },
  {
   "cell_type": "code",
   "execution_count": 3,
   "metadata": {},
   "outputs": [
    {
     "data": {
      "text/plain": [
       "31"
      ]
     },
     "execution_count": 3,
     "metadata": {},
     "output_type": "execute_result"
    }
   ],
   "source": [
    "collection.count()"
   ]
  },
  {
   "cell_type": "code",
   "execution_count": 6,
   "metadata": {},
   "outputs": [
    {
     "name": "stdout",
     "output_type": "stream",
     "text": [
      "Customer: I know what you guys doâ€¦You guys bullshit an offer that is very low and I am not going to fall for that\n",
      "AI: Thats not at all what we do. We will literally pay you all cash for what the property is worth and that depends on if it needs work or not\n",
      "\n",
      "Customer: Im sorry but I am not interested\n",
      "AI: Okay\n",
      "\n",
      "Customer: I have never owned a property in my life so I don't know what you are talking about\n",
      "AI: Okay\n",
      "\n",
      "\n"
     ]
    }
   ],
   "source": [
    "response = collection.query(query_texts=[\"Customer: I know what you guys do…You guys bullshit an offer that is very low and I am not going to fall for that\\n\"],n_results=3)\n",
    "suggestions = \"\"\n",
    "for doc in response[\"documents\"]:\n",
    "    for line in doc:\n",
    "        suggestions += line + \"\\n\\n\"\n",
    "\n",
    "print(suggestions)\n"
   ]
  },
  {
   "cell_type": "code",
   "execution_count": null,
   "metadata": {},
   "outputs": [],
   "source": []
  },
  {
   "cell_type": "code",
   "execution_count": null,
   "metadata": {},
   "outputs": [],
   "source": [
    "print(response)"
   ]
  },
  {
   "cell_type": "code",
   "execution_count": null,
   "metadata": {},
   "outputs": [],
   "source": [
    "from transformers import GPT2Tokenizer\n",
    "\n",
    "def count_gpt_tokens(passage):\n",
    "    tokenizer = GPT2Tokenizer.from_pretrained('gpt2')\n",
    "    tokens = tokenizer.encode(passage, add_special_tokens=True)\n",
    "    token_count = len(tokens)\n",
    "    return token_count\n"
   ]
  },
  {
   "cell_type": "code",
   "execution_count": null,
   "metadata": {},
   "outputs": [],
   "source": [
    "prompt = \"Act as a telemarketer. Your name is Amelio from Pure Investment. Follow this process:\\nYou initiated the call to customer. First, you need to ask customer question to make sure you are talking to the right customer. Then, you need to ask if he/she is living on the right adress.If the information is correct, ask if he/she is interested in selling their current property for cash.\\nYou are talking to {customer_name}, living in {customer_address}.\\nOnly when the customer is interested in selling their property, ask them for the property condition. Then, ask if they would sell it for {price}.\\nOtherwise, if customer is not interested or it is the wrong cusomter, politely end the conversation and hang up.\\nYou only address the customer's previous question and avoid providing extra information or generating unrelated sequences.\\n\\nSample conversation flow:\\n{sample_conversation}\\n\\nCurrent conversation:\\nYou : [initiate call]\\n\".format(customer_name=\"Vinny\", customer_address=\"Vinny\", price=\"123123\",sample_conversation=\"sample_conversation\")\n",
    "token_count = count_gpt_tokens(prompt)\n",
    "print(\"Number of GPT tokens:\", token_count)"
   ]
  }
 ],
 "metadata": {
  "kernelspec": {
   "display_name": "venv",
   "language": "python",
   "name": "python3"
  },
  "language_info": {
   "codemirror_mode": {
    "name": "ipython",
    "version": 3
   },
   "file_extension": ".py",
   "mimetype": "text/x-python",
   "name": "python",
   "nbconvert_exporter": "python",
   "pygments_lexer": "ipython3",
   "version": "3.9.12"
  },
  "orig_nbformat": 4
 },
 "nbformat": 4,
 "nbformat_minor": 2
}
