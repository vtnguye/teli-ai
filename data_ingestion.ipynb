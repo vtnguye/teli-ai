{
 "cells": [
  {
   "cell_type": "code",
   "execution_count": 8,
   "metadata": {},
   "outputs": [],
   "source": [
    "import os\n",
    "from uuid import uuid4\n",
    "from openai.embeddings_utils import get_embedding\n",
    "import pinecone\n",
    "from dotenv import load_dotenv"
   ]
  },
  {
   "cell_type": "code",
   "execution_count": null,
   "metadata": {},
   "outputs": [],
   "source": [
    "load_dotenv()\n",
    "OPEN_API_KEY = os.getenv(\"OPENAI_API_KEY\")\n",
    "PINECONE_API_KEY = os.getenv(\"PINECONE_API_KEY\")\n",
    "PINECONE_API_ENV = os.getenv(\"PINECONE_API_ENV\")\n",
    "INDEX_NAME = \"teli-ai\"\n",
    "COMPLETIONS_MODEL = \"text-davinci-003\"\n",
    "EMBEDDINGS_MODEL = \"text-embedding-ada-002\"\n",
    "TEXT_EMBEDDING_CHUNK_SIZE=300\n"
   ]
  },
  {
   "cell_type": "code",
   "execution_count": null,
   "metadata": {},
   "outputs": [],
   "source": [
    "\n",
    "pinecone.init(api_key=PINECONE_API_KEY, environment=PINECONE_API_ENV)"
   ]
  },
  {
   "cell_type": "code",
   "execution_count": null,
   "metadata": {},
   "outputs": [],
   "source": []
  },
  {
   "cell_type": "code",
   "execution_count": 2,
   "metadata": {},
   "outputs": [],
   "source": []
  },
  {
   "cell_type": "code",
   "execution_count": 16,
   "metadata": {},
   "outputs": [
    {
     "name": "stdout",
     "output_type": "stream",
     "text": [
      "[Document(page_content=\"Hello?\\nHi, are you the cop on Hades Road in Warren?\\nI'm sorry, you're calling the wrong number.\\nHello?\", metadata={}), Document(page_content=\"Hello, Hello, Hello \\nHi, I'm speaking with Larry? \\nNo, you don't live on the property on Melvin Avenue in Rochester.\\nNo, I must have the wrong number. \\nSorry about that.\", metadata={}), Document(page_content='Hello?\\nHi, are you the cop guard of Austin Boulevard in Macomb?\\nCan you stop calling me? Quit harassing me.', metadata={}), Document(page_content='Hello? \\nHi, this is Sean. \\nHi, are you the popular one on Warner Street in Warren? \\nSay that again? \\nAre you the popular one on Warner Street in Warren? \\nNo, sorry, you must have the wrong number. \\nSorry about that.', metadata={})]\n"
     ]
    }
   ],
   "source": [
    "testing_results_dir = \"asset/testing_result/\"\n",
    "texts =[]\n",
    "for folder_name in os.listdir(testing_results_dir):\n",
    "    folder_dir = os.path.join(testing_results_dir,folder_name)\n",
    "    for file in os.listdir(folder_dir):\n",
    "        if file.endswith(\".txt\"):\n",
    "            with open(os.path.join(folder_dir,file), \"r\") as f:\n",
    "                content = f.read()\n",
    "                texts.append(content)\n",
    "texts\n",
    "#docsearch = Pinecone.from_documents(docs, embeddings, index_name=index_name)\n"
   ]
  },
  {
   "cell_type": "code",
   "execution_count": null,
   "metadata": {},
   "outputs": [],
   "source": []
  }
 ],
 "metadata": {
  "kernelspec": {
   "display_name": "venv",
   "language": "python",
   "name": "python3"
  },
  "language_info": {
   "codemirror_mode": {
    "name": "ipython",
    "version": 3
   },
   "file_extension": ".py",
   "mimetype": "text/x-python",
   "name": "python",
   "nbconvert_exporter": "python",
   "pygments_lexer": "ipython3",
   "version": "3.9.12"
  },
  "orig_nbformat": 4
 },
 "nbformat": 4,
 "nbformat_minor": 2
}
