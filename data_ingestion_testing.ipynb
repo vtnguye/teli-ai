{
 "cells": [
  {
   "cell_type": "code",
   "execution_count": 1,
   "metadata": {},
   "outputs": [
    {
     "name": "stderr",
     "output_type": "stream",
     "text": [
      "c:\\Users\\vtnguye2503\\Projects\\teli-ai\\venv\\lib\\site-packages\\pinecone\\index.py:4: TqdmWarning: IProgress not found. Please update jupyter and ipywidgets. See https://ipywidgets.readthedocs.io/en/stable/user_install.html\n",
      "  from tqdm.autonotebook import tqdm\n"
     ]
    }
   ],
   "source": [
    "import os\n",
    "from uuid import uuid4\n",
    "from openai.embeddings_utils import get_embedding\n",
    "import pinecone\n",
    "from dotenv import load_dotenv\n",
    "from tqdm.auto import tqdm\n",
    "import datetime\n",
    "from time import sleep\n",
    "import openai"
   ]
  },
  {
   "cell_type": "code",
   "execution_count": 2,
   "metadata": {},
   "outputs": [],
   "source": [
    "load_dotenv()\n",
    "OPEN_API_KEY = os.getenv(\"OPENAI_API_KEY\")\n",
    "PINECONE_API_KEY = os.getenv(\"PINECONE_API_KEY\")\n",
    "PINECONE_API_ENV = os.getenv(\"PINECONE_API_ENV\")\n",
    "INDEX_NAME = \"teli-ai\"\n",
    "COMPLETIONS_MODEL = \"text-davinci-003\"\n",
    "EMBEDDINGS_MODEL = \"text-embedding-ada-002\""
   ]
  },
  {
   "cell_type": "code",
   "execution_count": 3,
   "metadata": {},
   "outputs": [],
   "source": [
    "\n",
    "pinecone.init(api_key=PINECONE_API_KEY, environment=PINECONE_API_ENV)\n",
    "if INDEX_NAME not in pinecone.list_indexes():\n",
    "    pinecone.create_index(INDEX_NAME, dimension=1536)\n",
    "index = pinecone.Index(INDEX_NAME)"
   ]
  },
  {
   "cell_type": "code",
   "execution_count": null,
   "metadata": {},
   "outputs": [],
   "source": [
    "testing_results_dir = \"asset/testing_result/\"\n",
    "conversations =[] #List of convo and embeddings\n",
    "\n",
    "for folder_name in os.listdir(testing_results_dir):\n",
    "    folder_dir = os.path.join(testing_results_dir,folder_name)\n",
    "    for file in os.listdir(folder_dir):\n",
    "        if file.endswith(\".txt\"): #Loop through all files\n",
    "            with open(os.path.join(folder_dir,file), \"r\") as f:\n",
    "                content = f.read()\n",
    "                conversation = {\"conversation\":content}\n",
    "                conversations.append(conversation)"
   ]
  },
  {
   "cell_type": "code",
   "execution_count": 8,
   "metadata": {},
   "outputs": [
    {
     "name": "stderr",
     "output_type": "stream",
     "text": [
      "100%|██████████| 6/6 [00:09<00:00,  1.52s/it]\n"
     ]
    }
   ],
   "source": [
    "batch_size = 9\n",
    "\n",
    "for i in tqdm(range(0,len(conversations),batch_size)):\n",
    "    i_end = min(i+batch_size,len(conversations))\n",
    "    meta_batch = conversations[i:i_end]\n",
    "    text = [conversation['conversation'] for conversation in meta_batch]\n",
    "    ids_batch = [str(uuid4()) for _ in range(len(meta_batch))]\n",
    "    try:\n",
    "        res = openai.Embedding.create(input = text, model=EMBEDDINGS_MODEL)\n",
    "    except:\n",
    "        done = False\n",
    "        while not done:\n",
    "            sleep(5)\n",
    "            try:\n",
    "                res = openai.Embedding.create(input=text, model=EMBEDDINGS_MODEL)\n",
    "                done = True\n",
    "            except:\n",
    "                pass\n",
    "\n",
    "    embeddings = [conversation['embedding'] for conversation in res['data']]\n",
    "    to_upsert = list(zip(ids_batch,embeddings,meta_batch))\n",
    "    index.upsert(vectors=to_upsert)"
   ]
  },
  {
   "cell_type": "code",
   "execution_count": 9,
   "metadata": {},
   "outputs": [
    {
     "data": {
      "text/plain": [
       "{'dimension': 1536,\n",
       " 'index_fullness': 0.0,\n",
       " 'namespaces': {'': {'vector_count': 50}},\n",
       " 'total_vector_count': 50}"
      ]
     },
     "execution_count": 9,
     "metadata": {},
     "output_type": "execute_result"
    }
   ],
   "source": [
    "index.describe_index_stats()"
   ]
  }
 ],
 "metadata": {
  "kernelspec": {
   "display_name": "venv",
   "language": "python",
   "name": "python3"
  },
  "language_info": {
   "codemirror_mode": {
    "name": "ipython",
    "version": 3
   },
   "file_extension": ".py",
   "mimetype": "text/x-python",
   "name": "python",
   "nbconvert_exporter": "python",
   "pygments_lexer": "ipython3",
   "version": "3.9.12"
  },
  "orig_nbformat": 4
 },
 "nbformat": 4,
 "nbformat_minor": 2
}
